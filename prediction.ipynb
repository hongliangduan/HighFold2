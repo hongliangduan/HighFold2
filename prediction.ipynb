{
 "cells": [
  {
   "cell_type": "markdown",
   "metadata": {},
   "source": [
    "The basic command of our model is as follows:  \n",
    "**python prediction.py --model-type alphafold2_multimer_v3 {fasta_path} {output_path}**  \n",
    "The fasta_path is the path to the fasta file, and the output_path is the path to the output directory where the predicted structures will be saved.  \n",
    "For example, if you have a fasta file called \"133l.fasta\" and you want to save the predicted structures in a directory called \"133l\", you can run the following command:"
   ]
  },
  {
   "cell_type": "code",
   "execution_count": 1,
   "metadata": {},
   "outputs": [
    {
     "name": "stdout",
     "output_type": "stream",
     "text": [
      "2025-03-20 14:56:33,320 Running colabfold 0.1\n",
      "\n",
      "WARNING: You are welcome to use the default MSA server, however keep in mind that it's a\n",
      "limited shared resource only capable of processing a few thousand MSAs per day. Please\n",
      "submit jobs only from a single IP address. We reserve the right to limit access to the\n",
      "server case-by-case when usage exceeds fair use. If you require more MSAs: You can \n",
      "precompute all MSAs with `colabfold_search` or host your own API and pass it to `--host-url`\n",
      "\n",
      "2025-03-20 14:56:34,592 Running on GPU\n",
      "2025-03-20 14:56:34,979 Found 4 citations for tools or databases\n",
      "2025-03-20 14:56:34,980 Query 1/1: 133l (length 130)\n",
      "COMPLETE: 100%|██████████████████████| 150/150 [elapsed: 00:08 remaining: 00:00]\n",
      "2025-03-20 14:56:43,386 Setting max_seq=508, max_extra_seq=1540\n",
      "2025-03-20 14:57:05,163 alphafold2_multimer_v3_model_1_seed_000 recycle=0 pLDDT=97.9 pTM=0.916\n",
      "2025-03-20 14:57:21,656 alphafold2_multimer_v3_model_1_seed_000 recycle=1 pLDDT=98.1 pTM=0.918 tol=0.116\n",
      "2025-03-20 14:57:21,656 alphafold2_multimer_v3_model_1_seed_000 took 34.9s (1 recycles)\n",
      "2025-03-20 14:57:23,329 alphafold2_multimer_v3_model_2_seed_000 recycle=0 pLDDT=97.6 pTM=0.91\n",
      "2025-03-20 14:57:24,938 alphafold2_multimer_v3_model_2_seed_000 recycle=1 pLDDT=97.4 pTM=0.909 tol=0.103\n",
      "2025-03-20 14:57:24,938 alphafold2_multimer_v3_model_2_seed_000 took 3.2s (1 recycles)\n",
      "2025-03-20 14:57:26,566 alphafold2_multimer_v3_model_3_seed_000 recycle=0 pLDDT=98 pTM=0.915\n",
      "2025-03-20 14:57:28,145 alphafold2_multimer_v3_model_3_seed_000 recycle=1 pLDDT=98.2 pTM=0.921 tol=0.128\n",
      "2025-03-20 14:57:28,145 alphafold2_multimer_v3_model_3_seed_000 took 3.2s (1 recycles)\n",
      "2025-03-20 14:57:29,838 alphafold2_multimer_v3_model_4_seed_000 recycle=0 pLDDT=98.4 pTM=0.921\n",
      "2025-03-20 14:57:31,472 alphafold2_multimer_v3_model_4_seed_000 recycle=1 pLDDT=98.5 pTM=0.923 tol=0.103\n",
      "2025-03-20 14:57:31,473 alphafold2_multimer_v3_model_4_seed_000 took 3.3s (1 recycles)\n",
      "2025-03-20 14:57:33,082 alphafold2_multimer_v3_model_5_seed_000 recycle=0 pLDDT=98.1 pTM=0.919\n",
      "2025-03-20 14:57:34,674 alphafold2_multimer_v3_model_5_seed_000 recycle=1 pLDDT=98.1 pTM=0.921 tol=0.162\n",
      "2025-03-20 14:57:34,674 alphafold2_multimer_v3_model_5_seed_000 took 3.2s (1 recycles)\n",
      "2025-03-20 14:57:34,702 reranking models by 'plddt' metric\n",
      "2025-03-20 14:57:34,702 rank_001_alphafold2_multimer_v3_model_4_seed_000 pLDDT=98.5 pTM=0.923\n",
      "2025-03-20 14:57:34,702 rank_002_alphafold2_multimer_v3_model_3_seed_000 pLDDT=98.2 pTM=0.921\n",
      "2025-03-20 14:57:34,703 rank_003_alphafold2_multimer_v3_model_5_seed_000 pLDDT=98.1 pTM=0.921\n",
      "2025-03-20 14:57:34,703 rank_004_alphafold2_multimer_v3_model_1_seed_000 pLDDT=98.1 pTM=0.918\n",
      "2025-03-20 14:57:34,704 rank_005_alphafold2_multimer_v3_model_2_seed_000 pLDDT=97.4 pTM=0.909\n",
      "2025-03-20 14:57:35,911 Done\n"
     ]
    }
   ],
   "source": [
    "! python prediction.py --model-type alphafold2_multimer_v3 ./133l.fasta ./133l"
   ]
  },
  {
   "cell_type": "markdown",
   "metadata": {},
   "source": [
    "If your predicted structure is a complex, you should use ':' to separate the chains in the fasta file, as in \"3zrd.fasta\", which contains two chains. You can run the following command to predict:"
   ]
  },
  {
   "cell_type": "code",
   "execution_count": 2,
   "metadata": {},
   "outputs": [
    {
     "name": "stdout",
     "output_type": "stream",
     "text": [
      "2025-03-20 14:57:37,673 Running colabfold 0.1\n",
      "\n",
      "WARNING: You are welcome to use the default MSA server, however keep in mind that it's a\n",
      "limited shared resource only capable of processing a few thousand MSAs per day. Please\n",
      "submit jobs only from a single IP address. We reserve the right to limit access to the\n",
      "server case-by-case when usage exceeds fair use. If you require more MSAs: You can \n",
      "precompute all MSAs with `colabfold_search` or host your own API and pass it to `--host-url`\n",
      "\n",
      "2025-03-20 14:57:38,783 Running on GPU\n",
      "2025-03-20 14:57:39,167 Found 4 citations for tools or databases\n",
      "2025-03-20 14:57:39,167 Query 1/1: 3zrd (length 340)\n",
      "2025-03-20 14:57:39,906 Sleeping for 7s. Reason: PENDING                        \n",
      "2025-03-20 14:57:47,695 Sleeping for 8s. Reason: RUNNING                        \n",
      "2025-03-20 14:57:56,497 Sleeping for 7s. Reason: RUNNING                        \n",
      "2025-03-20 14:58:04,319 Sleeping for 6s. Reason: RUNNING                        \n",
      "2025-03-20 14:58:11,097 Sleeping for 5s. Reason: RUNNING                        \n",
      "2025-03-20 14:58:17,561 Sleeping for 6s. Reason: RUNNING                        \n",
      "2025-03-20 14:58:24,370 Sleeping for 6s. Reason: RUNNING                        \n",
      "2025-03-20 14:58:31,149 Sleeping for 8s. Reason: RUNNING                        \n",
      "2025-03-20 14:58:39,990 Sleeping for 9s. Reason: RUNNING                        \n",
      "2025-03-20 14:58:49,722 Sleeping for 9s. Reason: RUNNING                        \n",
      "2025-03-20 14:58:59,512 Sleeping for 6s. Reason: RUNNING                        \n",
      "2025-03-20 14:59:06,327 Sleeping for 9s. Reason: RUNNING                        \n",
      "2025-03-20 14:59:17,059 Sleeping for 5s. Reason: RUNNING                        \n",
      "COMPLETE: 100%|██████████████████████| 300/300 [elapsed: 02:46 remaining: 00:00]\n",
      "2025-03-20 15:00:27,011 Sleeping for 6s. Reason: PENDING                        \n",
      "2025-03-20 15:00:33,840 Sleeping for 9s. Reason: RUNNING                        \n",
      "2025-03-20 15:00:43,648 Sleeping for 10s. Reason: RUNNING                       \n",
      "2025-03-20 15:00:54,367 Sleeping for 6s. Reason: RUNNING                        \n",
      "2025-03-20 15:01:01,154 Sleeping for 8s. Reason: RUNNING                        \n",
      "2025-03-20 15:01:09,860 Sleeping for 5s. Reason: RUNNING                        \n",
      "2025-03-20 15:01:15,655 Sleeping for 8s. Reason: RUNNING                        \n",
      "2025-03-20 15:01:24,378 Sleeping for 10s. Reason: RUNNING                       \n",
      "2025-03-20 15:01:35,184 Sleeping for 9s. Reason: RUNNING                        \n",
      "COMPLETE: 100%|██████████████████████| 300/300 [elapsed: 01:44 remaining: 00:00]\n",
      "2025-03-20 15:02:12,351 Setting max_seq=508, max_extra_seq=2048\n",
      "2025-03-20 15:02:38,490 alphafold2_multimer_v3_model_1_seed_000 recycle=0 pLDDT=88.7 pTM=0.876 ipTM=0.848\n",
      "2025-03-20 15:02:57,869 alphafold2_multimer_v3_model_1_seed_000 recycle=1 pLDDT=88.4 pTM=0.875 ipTM=0.844 tol=0.33\n",
      "2025-03-20 15:02:57,869 alphafold2_multimer_v3_model_1_seed_000 took 42.1s (1 recycles)\n",
      "2025-03-20 15:03:03,808 alphafold2_multimer_v3_model_2_seed_000 recycle=0 pLDDT=86.2 pTM=0.868 ipTM=0.838\n",
      "2025-03-20 15:03:09,585 alphafold2_multimer_v3_model_2_seed_000 recycle=1 pLDDT=84.1 pTM=0.857 ipTM=0.823 tol=0.4\n",
      "2025-03-20 15:03:09,586 alphafold2_multimer_v3_model_2_seed_000 took 11.6s (1 recycles)\n",
      "2025-03-20 15:03:15,470 alphafold2_multimer_v3_model_3_seed_000 recycle=0 pLDDT=86 pTM=0.863 ipTM=0.832\n",
      "2025-03-20 15:03:21,246 alphafold2_multimer_v3_model_3_seed_000 recycle=1 pLDDT=86.9 pTM=0.87 ipTM=0.84 tol=0.418\n",
      "2025-03-20 15:03:21,247 alphafold2_multimer_v3_model_3_seed_000 took 11.6s (1 recycles)\n",
      "2025-03-20 15:03:27,259 alphafold2_multimer_v3_model_4_seed_000 recycle=0 pLDDT=92.9 pTM=0.909 ipTM=0.889\n",
      "2025-03-20 15:03:33,042 alphafold2_multimer_v3_model_4_seed_000 recycle=1 pLDDT=89.6 pTM=0.891 ipTM=0.869 tol=0.551\n",
      "2025-03-20 15:03:38,815 alphafold2_multimer_v3_model_4_seed_000 recycle=2 pLDDT=91.1 pTM=0.9 ipTM=0.88 tol=0.444\n",
      "2025-03-20 15:03:38,816 alphafold2_multimer_v3_model_4_seed_000 took 17.4s (2 recycles)\n",
      "2025-03-20 15:03:44,753 alphafold2_multimer_v3_model_5_seed_000 recycle=0 pLDDT=91 pTM=0.898 ipTM=0.88\n",
      "2025-03-20 15:03:50,544 alphafold2_multimer_v3_model_5_seed_000 recycle=1 pLDDT=86.8 pTM=0.865 ipTM=0.837 tol=0.433\n",
      "2025-03-20 15:03:50,544 alphafold2_multimer_v3_model_5_seed_000 took 11.6s (1 recycles)\n",
      "2025-03-20 15:03:50,679 reranking models by 'multimer' metric\n",
      "2025-03-20 15:03:50,679 rank_001_alphafold2_multimer_v3_model_4_seed_000 pLDDT=91.1 pTM=0.9 ipTM=0.88\n",
      "2025-03-20 15:03:50,679 rank_002_alphafold2_multimer_v3_model_1_seed_000 pLDDT=88.4 pTM=0.875 ipTM=0.844\n",
      "2025-03-20 15:03:50,680 rank_003_alphafold2_multimer_v3_model_3_seed_000 pLDDT=86.9 pTM=0.87 ipTM=0.84\n",
      "2025-03-20 15:03:50,680 rank_004_alphafold2_multimer_v3_model_5_seed_000 pLDDT=86.8 pTM=0.865 ipTM=0.837\n",
      "2025-03-20 15:03:50,681 rank_005_alphafold2_multimer_v3_model_2_seed_000 pLDDT=84.1 pTM=0.857 ipTM=0.823\n",
      "2025-03-20 15:03:51,934 Done\n"
     ]
    }
   ],
   "source": [
    "! python prediction.py --model-type alphafold2_multimer_v3 ./3zrd.fasta ./3zrd"
   ]
  },
  {
   "cell_type": "markdown",
   "metadata": {},
   "source": [
    "If your structure has unnatural amino acids, you should use 'X' to represent them in the fasta file and orderly specify them in command by --unnatural_residue.  \n",
    "For example, if you have a fasta file called \"1rbd.fasta\" and it contains two unnatural amino acids, you can run the following command:"
   ]
  },
  {
   "cell_type": "code",
   "execution_count": 3,
   "metadata": {},
   "outputs": [
    {
     "name": "stdout",
     "output_type": "stream",
     "text": [
      "2025-03-20 15:03:53,906 Running colabfold 0.1\n",
      "\n",
      "WARNING: You are welcome to use the default MSA server, however keep in mind that it's a\n",
      "limited shared resource only capable of processing a few thousand MSAs per day. Please\n",
      "submit jobs only from a single IP address. We reserve the right to limit access to the\n",
      "server case-by-case when usage exceeds fair use. If you require more MSAs: You can \n",
      "precompute all MSAs with `colabfold_search` or host your own API and pass it to `--host-url`\n",
      "\n",
      "2025-03-20 15:03:55,356 Running on GPU\n",
      "2025-03-20 15:03:55,747 Found 4 citations for tools or databases\n",
      "2025-03-20 15:03:55,747 Query 1/1: 1rbd (length 120)\n",
      "COMPLETE: 100%|██████████████████████| 300/300 [elapsed: 00:00 remaining: 00:00]"
     ]
    },
    {
     "name": "stdout",
     "output_type": "stream",
     "text": [
      "COMPLETE: 100%|██████████████████████| 300/300 [elapsed: 00:06 remaining: 00:00]\n",
      "COMPLETE: 100%|██████████████████████| 300/300 [elapsed: 00:01 remaining: 00:00]\n",
      "2025-03-20 15:04:03,885 Setting max_seq=508, max_extra_seq=1542\n",
      "2025-03-20 15:04:25,676 alphafold2_multimer_v3_model_1_seed_000 recycle=0 pLDDT=79.4 pTM=0.779 ipTM=0.3\n",
      "2025-03-20 15:04:42,183 alphafold2_multimer_v3_model_1_seed_000 recycle=1 pLDDT=86.6 pTM=0.832 ipTM=0.575 tol=1.76\n",
      "2025-03-20 15:04:43,705 alphafold2_multimer_v3_model_1_seed_000 recycle=2 pLDDT=94.8 pTM=0.885 ipTM=0.88 tol=0.677\n",
      "2025-03-20 15:04:45,230 alphafold2_multimer_v3_model_1_seed_000 recycle=3 pLDDT=95.4 pTM=0.891 ipTM=0.899 tol=0.106\n",
      "2025-03-20 15:04:45,231 alphafold2_multimer_v3_model_1_seed_000 took 36.1s (3 recycles)\n",
      "2025-03-20 15:04:47,235 alphafold2_multimer_v3_model_2_seed_000 recycle=0 pLDDT=78.4 pTM=0.778 ipTM=0.271\n",
      "2025-03-20 15:04:48,656 alphafold2_multimer_v3_model_2_seed_000 recycle=1 pLDDT=82.2 pTM=0.798 ipTM=0.357 tol=1.61\n",
      "2025-03-20 15:04:50,155 alphafold2_multimer_v3_model_2_seed_000 recycle=2 pLDDT=82.6 pTM=0.799 ipTM=0.355 tol=0.688\n",
      "2025-03-20 15:04:51,585 alphafold2_multimer_v3_model_2_seed_000 recycle=3 pLDDT=85.1 pTM=0.813 ipTM=0.435 tol=0.563\n",
      "2025-03-20 15:04:53,013 alphafold2_multimer_v3_model_2_seed_000 recycle=4 pLDDT=92.6 pTM=0.872 ipTM=0.797 tol=0.467\n",
      "2025-03-20 15:04:53,013 alphafold2_multimer_v3_model_2_seed_000 took 7.3s (4 recycles)\n",
      "2025-03-20 15:04:54,928 alphafold2_multimer_v3_model_3_seed_000 recycle=0 pLDDT=78.9 pTM=0.768 ipTM=0.263\n",
      "2025-03-20 15:04:56,365 alphafold2_multimer_v3_model_3_seed_000 recycle=1 pLDDT=81.4 pTM=0.791 ipTM=0.338 tol=1.57\n",
      "2025-03-20 15:04:57,757 alphafold2_multimer_v3_model_3_seed_000 recycle=2 pLDDT=81.6 pTM=0.792 ipTM=0.34 tol=0.404\n",
      "2025-03-20 15:04:57,758 alphafold2_multimer_v3_model_3_seed_000 took 4.3s (2 recycles)\n",
      "2025-03-20 15:04:59,720 alphafold2_multimer_v3_model_4_seed_000 recycle=0 pLDDT=84.2 pTM=0.792 ipTM=0.345\n",
      "2025-03-20 15:05:01,098 alphafold2_multimer_v3_model_4_seed_000 recycle=1 pLDDT=87 pTM=0.812 ipTM=0.45 tol=1.82\n",
      "2025-03-20 15:05:02,504 alphafold2_multimer_v3_model_4_seed_000 recycle=2 pLDDT=86.8 pTM=0.806 ipTM=0.424 tol=0.267\n",
      "2025-03-20 15:05:02,504 alphafold2_multimer_v3_model_4_seed_000 took 4.3s (2 recycles)\n",
      "2025-03-20 15:05:04,384 alphafold2_multimer_v3_model_5_seed_000 recycle=0 pLDDT=79.6 pTM=0.759 ipTM=0.229\n",
      "2025-03-20 15:05:05,782 alphafold2_multimer_v3_model_5_seed_000 recycle=1 pLDDT=80.2 pTM=0.769 ipTM=0.215 tol=1.27\n",
      "2025-03-20 15:05:07,219 alphafold2_multimer_v3_model_5_seed_000 recycle=2 pLDDT=80.8 pTM=0.77 ipTM=0.213 tol=0.927\n",
      "2025-03-20 15:05:08,635 alphafold2_multimer_v3_model_5_seed_000 recycle=3 pLDDT=81.2 pTM=0.773 ipTM=0.224 tol=2.3\n",
      "2025-03-20 15:05:10,028 alphafold2_multimer_v3_model_5_seed_000 recycle=4 pLDDT=82.2 pTM=0.775 ipTM=0.251 tol=0.69\n",
      "2025-03-20 15:05:11,492 alphafold2_multimer_v3_model_5_seed_000 recycle=5 pLDDT=83.3 pTM=0.783 ipTM=0.283 tol=0.286\n",
      "2025-03-20 15:05:11,493 alphafold2_multimer_v3_model_5_seed_000 took 8.5s (5 recycles)\n",
      "2025-03-20 15:05:11,532 reranking models by 'multimer' metric\n",
      "2025-03-20 15:05:11,533 rank_001_alphafold2_multimer_v3_model_1_seed_000 pLDDT=95.4 pTM=0.891 ipTM=0.899\n",
      "2025-03-20 15:05:11,533 rank_002_alphafold2_multimer_v3_model_2_seed_000 pLDDT=92.6 pTM=0.872 ipTM=0.797\n",
      "2025-03-20 15:05:11,534 rank_003_alphafold2_multimer_v3_model_4_seed_000 pLDDT=86.8 pTM=0.806 ipTM=0.424\n",
      "2025-03-20 15:05:11,534 rank_004_alphafold2_multimer_v3_model_3_seed_000 pLDDT=81.6 pTM=0.792 ipTM=0.34\n",
      "2025-03-20 15:05:11,534 rank_005_alphafold2_multimer_v3_model_5_seed_000 pLDDT=83.3 pTM=0.783 ipTM=0.283\n",
      "2025-03-20 15:05:12,731 Done\n"
     ]
    }
   ],
   "source": [
    "! python prediction.py --model-type alphafold2_multimer_v3 ./1rbd.fasta ./1rbd --unnatural_residue ABA NH2"
   ]
  },
  {
   "cell_type": "markdown",
   "metadata": {},
   "source": [
    "If you want to predict the cyclic peptide, you should use --flag-cyclic-peptide, its actual parameter is 0 or 1, 0 means not the cyclic peptide, 1 means the cyclic peptide and the number of actual parameters is the number of chains in the fasta file.  \n",
    "For the head-to-tail cyclization, in addition to --flag-cyclic-peptide, you should also use the --flag-nc, its actual parameter is 0 or 1, 0 means not the head-to-tail cyclization, and 1 means the head-to-tail cyclization and the number of actual parameters is the number of chains in the fasta file.  \n",
    "For the disulfide bridge restriction, in addition to --flag-cyclic-peptide, you should also use the --index-ss, its indices start at 0, the first number is the index of the chain in fasta file, and the following numbers are the indices of disulfide bond pairs. For example, \"2 0 7\" denotes that the third chain is a cyclic peptide in which the first amino acid and the eighth amino acid are linked by a disulfide bond."
   ]
  },
  {
   "cell_type": "markdown",
   "metadata": {},
   "source": [
    "For example, suppose you want to predict \"1big.fasta\", which has three disulfide bonds in the first chain, the seventh amino acid and the twenty-eighth amino acid linked by a disulfide bond, the thirteenth amino acid and the thirty-third amino acid linked by a disulfide bond, the seventeenth amino acid and the thirty-fifth amino acid linked by a disulfide bond. In that case, you can run the following command:"
   ]
  },
  {
   "cell_type": "code",
   "execution_count": 4,
   "metadata": {},
   "outputs": [
    {
     "name": "stdout",
     "output_type": "stream",
     "text": [
      "2025-03-20 15:05:14,699 Running colabfold 0.1\n",
      "\n",
      "WARNING: You are welcome to use the default MSA server, however keep in mind that it's a\n",
      "limited shared resource only capable of processing a few thousand MSAs per day. Please\n",
      "submit jobs only from a single IP address. We reserve the right to limit access to the\n",
      "server case-by-case when usage exceeds fair use. If you require more MSAs: You can \n",
      "precompute all MSAs with `colabfold_search` or host your own API and pass it to `--host-url`\n",
      "\n",
      "2025-03-20 15:05:16,039 Running on GPU\n",
      "2025-03-20 15:05:16,451 Found 4 citations for tools or databases\n",
      "2025-03-20 15:05:16,451 Query 1/1: 1big (length 37)\n",
      "COMPLETE: 100%|██████████████████████| 150/150 [elapsed: 00:01 remaining: 00:00]\n",
      "2025-03-20 15:05:17,979 Setting max_seq=206, max_extra_seq=1\n",
      "2025-03-20 15:05:40,218 alphafold2_multimer_v3_model_1_seed_000 recycle=0 pLDDT=75.7 pTM=0.541\n",
      "2025-03-20 15:05:58,344 alphafold2_multimer_v3_model_1_seed_000 recycle=1 pLDDT=78.8 pTM=0.59 tol=0.22\n",
      "2025-03-20 15:05:58,344 alphafold2_multimer_v3_model_1_seed_000 took 34.7s (1 recycles)\n",
      "2025-03-20 15:05:59,307 alphafold2_multimer_v3_model_2_seed_000 recycle=0 pLDDT=77.4 pTM=0.538\n",
      "2025-03-20 15:05:59,682 alphafold2_multimer_v3_model_2_seed_000 recycle=1 pLDDT=80.6 pTM=0.581 tol=0.205\n",
      "2025-03-20 15:05:59,682 alphafold2_multimer_v3_model_2_seed_000 took 0.8s (1 recycles)\n",
      "2025-03-20 15:06:00,495 alphafold2_multimer_v3_model_3_seed_000 recycle=0 pLDDT=78.8 pTM=0.561\n",
      "2025-03-20 15:06:00,867 alphafold2_multimer_v3_model_3_seed_000 recycle=1 pLDDT=81.9 pTM=0.595 tol=0.189\n",
      "2025-03-20 15:06:00,868 alphafold2_multimer_v3_model_3_seed_000 took 0.7s (1 recycles)\n",
      "2025-03-20 15:06:01,596 alphafold2_multimer_v3_model_4_seed_000 recycle=0 pLDDT=77.9 pTM=0.518\n",
      "2025-03-20 15:06:01,914 alphafold2_multimer_v3_model_4_seed_000 recycle=1 pLDDT=77.4 pTM=0.534 tol=0.122\n",
      "2025-03-20 15:06:01,915 alphafold2_multimer_v3_model_4_seed_000 took 0.6s (1 recycles)\n",
      "2025-03-20 15:06:02,696 alphafold2_multimer_v3_model_5_seed_000 recycle=0 pLDDT=71.7 pTM=0.468\n",
      "2025-03-20 15:06:03,016 alphafold2_multimer_v3_model_5_seed_000 recycle=1 pLDDT=74 pTM=0.51 tol=0.281\n",
      "2025-03-20 15:06:03,016 alphafold2_multimer_v3_model_5_seed_000 took 0.7s (1 recycles)\n",
      "2025-03-20 15:06:03,026 reranking models by 'plddt' metric\n",
      "2025-03-20 15:06:03,026 rank_001_alphafold2_multimer_v3_model_3_seed_000 pLDDT=81.9 pTM=0.595\n",
      "2025-03-20 15:06:03,027 rank_002_alphafold2_multimer_v3_model_2_seed_000 pLDDT=80.6 pTM=0.581\n",
      "2025-03-20 15:06:03,027 rank_003_alphafold2_multimer_v3_model_1_seed_000 pLDDT=78.8 pTM=0.59\n",
      "2025-03-20 15:06:03,028 rank_004_alphafold2_multimer_v3_model_4_seed_000 pLDDT=77.4 pTM=0.534\n",
      "2025-03-20 15:06:03,028 rank_005_alphafold2_multimer_v3_model_5_seed_000 pLDDT=74 pTM=0.51\n",
      "2025-03-20 15:06:04,232 Done\n"
     ]
    }
   ],
   "source": [
    "! python prediction.py --model-type alphafold2_multimer_v3 ./1big.fasta ./1big --unnatural_residue PCA --flag-cyclic-peptide 1 --index-ss 0 6 27 --index-ss 0 12 32 --index-ss 0 16 34"
   ]
  },
  {
   "cell_type": "markdown",
   "metadata": {},
   "source": [
    "If you want to predict \"1t9e.fasta\" which has a head-to-tail cyclization in the first chain, you can run the following command:"
   ]
  },
  {
   "cell_type": "code",
   "execution_count": 5,
   "metadata": {},
   "outputs": [
    {
     "name": "stdout",
     "output_type": "stream",
     "text": [
      "2025-03-20 15:06:06,441 Running colabfold 0.1\n",
      "\n",
      "WARNING: You are welcome to use the default MSA server, however keep in mind that it's a\n",
      "limited shared resource only capable of processing a few thousand MSAs per day. Please\n",
      "submit jobs only from a single IP address. We reserve the right to limit access to the\n",
      "server case-by-case when usage exceeds fair use. If you require more MSAs: You can \n",
      "precompute all MSAs with `colabfold_search` or host your own API and pass it to `--host-url`\n",
      "\n"
     ]
    },
    {
     "name": "stdout",
     "output_type": "stream",
     "text": [
      "2025-03-20 15:06:07,713 Running on GPU\n",
      "2025-03-20 15:06:08,114 Found 4 citations for tools or databases\n",
      "2025-03-20 15:06:08,115 Query 1/1: 1t9e (length 14)\n",
      "COMPLETE: 100%|██████████████████████| 150/150 [elapsed: 00:01 remaining: 00:00]\n",
      "2025-03-20 15:06:09,702 Setting max_seq=2, max_extra_seq=1\n",
      "2025-03-20 15:06:31,741 alphafold2_multimer_v3_model_1_seed_000 recycle=0 pLDDT=53.1 pTM=0.0109\n",
      "2025-03-20 15:06:45,985 alphafold2_multimer_v3_model_1_seed_000 recycle=1 pLDDT=56.5 pTM=0.0125 tol=0.601\n",
      "2025-03-20 15:06:46,041 alphafold2_multimer_v3_model_1_seed_000 recycle=2 pLDDT=56.8 pTM=0.0126 tol=0.142\n",
      "2025-03-20 15:06:46,041 alphafold2_multimer_v3_model_1_seed_000 took 30.8s (2 recycles)\n",
      "2025-03-20 15:06:46,321 alphafold2_multimer_v3_model_2_seed_000 recycle=0 pLDDT=51.5 pTM=0.00961\n",
      "2025-03-20 15:06:46,370 alphafold2_multimer_v3_model_2_seed_000 recycle=1 pLDDT=55.1 pTM=0.0108 tol=0.985\n",
      "2025-03-20 15:06:46,421 alphafold2_multimer_v3_model_2_seed_000 recycle=2 pLDDT=55.1 pTM=0.0109 tol=0.114\n",
      "2025-03-20 15:06:46,421 alphafold2_multimer_v3_model_2_seed_000 took 0.1s (2 recycles)\n",
      "2025-03-20 15:06:46,740 alphafold2_multimer_v3_model_3_seed_000 recycle=0 pLDDT=51.9 pTM=0.00924\n",
      "2025-03-20 15:06:46,791 alphafold2_multimer_v3_model_3_seed_000 recycle=1 pLDDT=54.2 pTM=0.00963 tol=0.774\n",
      "2025-03-20 15:06:46,844 alphafold2_multimer_v3_model_3_seed_000 recycle=2 pLDDT=53.4 pTM=0.0097 tol=0.79\n",
      "2025-03-20 15:06:46,894 alphafold2_multimer_v3_model_3_seed_000 recycle=3 pLDDT=55.3 pTM=0.0104 tol=0.805\n",
      "2025-03-20 15:06:46,944 alphafold2_multimer_v3_model_3_seed_000 recycle=4 pLDDT=55.3 pTM=0.0101 tol=0.174\n",
      "2025-03-20 15:06:46,944 alphafold2_multimer_v3_model_3_seed_000 took 0.3s (4 recycles)\n",
      "2025-03-20 15:06:47,331 alphafold2_multimer_v3_model_4_seed_000 recycle=0 pLDDT=55.9 pTM=0.0103\n",
      "2025-03-20 15:06:47,382 alphafold2_multimer_v3_model_4_seed_000 recycle=1 pLDDT=56.4 pTM=0.0105 tol=0.73\n",
      "2025-03-20 15:06:47,433 alphafold2_multimer_v3_model_4_seed_000 recycle=2 pLDDT=56.5 pTM=0.0107 tol=0.633\n",
      "2025-03-20 15:06:47,485 alphafold2_multimer_v3_model_4_seed_000 recycle=3 pLDDT=60.1 pTM=0.0118 tol=0.229\n",
      "2025-03-20 15:06:47,486 alphafold2_multimer_v3_model_4_seed_000 took 0.2s (3 recycles)\n",
      "2025-03-20 15:06:47,899 alphafold2_multimer_v3_model_5_seed_000 recycle=0 pLDDT=55.7 pTM=0.0102\n",
      "2025-03-20 15:06:47,952 alphafold2_multimer_v3_model_5_seed_000 recycle=1 pLDDT=59.2 pTM=0.0109 tol=0.467\n",
      "2025-03-20 15:06:47,952 alphafold2_multimer_v3_model_5_seed_000 took 0.1s (1 recycles)\n",
      "2025-03-20 15:06:47,955 reranking models by 'plddt' metric\n",
      "2025-03-20 15:06:47,955 rank_001_alphafold2_multimer_v3_model_4_seed_000 pLDDT=60.1 pTM=0.0118\n",
      "2025-03-20 15:06:47,955 rank_002_alphafold2_multimer_v3_model_5_seed_000 pLDDT=59.2 pTM=0.0109\n",
      "2025-03-20 15:06:47,955 rank_003_alphafold2_multimer_v3_model_1_seed_000 pLDDT=56.8 pTM=0.0126\n",
      "2025-03-20 15:06:47,955 rank_004_alphafold2_multimer_v3_model_3_seed_000 pLDDT=55.3 pTM=0.0101\n",
      "2025-03-20 15:06:47,955 rank_005_alphafold2_multimer_v3_model_2_seed_000 pLDDT=55.1 pTM=0.0109\n",
      "2025-03-20 15:06:48,886 Done\n"
     ]
    }
   ],
   "source": [
    "! python prediction.py --model-type alphafold2_multimer_v3 ./1t9e.fasta ./1t9e --unnatural_residue ABA ABA --flag-cyclic-peptide 1 --flag-nc 1"
   ]
  },
  {
   "cell_type": "markdown",
   "metadata": {},
   "source": [
    "If you want to predict \"3zgc.fasta\" which is a complex that has a head-to-tail cyclization in the second chain, you can run the following command:"
   ]
  },
  {
   "cell_type": "code",
   "execution_count": 6,
   "metadata": {},
   "outputs": [
    {
     "name": "stdout",
     "output_type": "stream",
     "text": [
      "2025-03-20 15:06:50,432 Running colabfold 0.1\n",
      "\n",
      "WARNING: You are welcome to use the default MSA server, however keep in mind that it's a\n",
      "limited shared resource only capable of processing a few thousand MSAs per day. Please\n",
      "submit jobs only from a single IP address. We reserve the right to limit access to the\n",
      "server case-by-case when usage exceeds fair use. If you require more MSAs: You can \n",
      "precompute all MSAs with `colabfold_search` or host your own API and pass it to `--host-url`\n",
      "\n",
      "2025-03-20 15:06:51,311 Running on GPU\n",
      "2025-03-20 15:06:51,624 Found 4 citations for tools or databases\n",
      "2025-03-20 15:06:51,624 Query 1/1: 3zgc (length 292)\n",
      "COMPLETE: 100%|██████████████████████| 300/300 [elapsed: 00:17 remaining: 00:00]\n",
      "COMPLETE: 100%|██████████████████████| 300/300 [elapsed: 00:01 remaining: 00:00]\n",
      "2025-03-20 15:07:11,183 Setting max_seq=508, max_extra_seq=1542\n",
      "2025-03-20 15:07:36,951 alphafold2_multimer_v3_model_1_seed_000 recycle=0 pLDDT=95.9 pTM=0.94 ipTM=0.831\n",
      "2025-03-20 15:07:55,491 alphafold2_multimer_v3_model_1_seed_000 recycle=1 pLDDT=96.8 pTM=0.946 ipTM=0.906 tol=0.433\n",
      "2025-03-20 15:07:55,491 alphafold2_multimer_v3_model_1_seed_000 took 38.8s (1 recycles)\n",
      "2025-03-20 15:08:00,429 alphafold2_multimer_v3_model_2_seed_000 recycle=0 pLDDT=95 pTM=0.937 ipTM=0.67\n",
      "2025-03-20 15:08:04,902 alphafold2_multimer_v3_model_2_seed_000 recycle=1 pLDDT=95.3 pTM=0.941 ipTM=0.642 tol=0.267\n",
      "2025-03-20 15:08:04,903 alphafold2_multimer_v3_model_2_seed_000 took 8.9s (1 recycles)\n",
      "2025-03-20 15:08:09,976 alphafold2_multimer_v3_model_3_seed_000 recycle=0 pLDDT=94.9 pTM=0.938 ipTM=0.631\n",
      "2025-03-20 15:08:14,484 alphafold2_multimer_v3_model_3_seed_000 recycle=1 pLDDT=94.9 pTM=0.941 ipTM=0.646 tol=0.817\n",
      "2025-03-20 15:08:18,993 alphafold2_multimer_v3_model_3_seed_000 recycle=2 pLDDT=94.8 pTM=0.94 ipTM=0.626 tol=0.2\n",
      "2025-03-20 15:08:18,993 alphafold2_multimer_v3_model_3_seed_000 took 13.5s (2 recycles)\n",
      "2025-03-20 15:08:23,929 alphafold2_multimer_v3_model_4_seed_000 recycle=0 pLDDT=96 pTM=0.939 ipTM=0.802\n",
      "2025-03-20 15:08:28,429 alphafold2_multimer_v3_model_4_seed_000 recycle=1 pLDDT=96.6 pTM=0.943 ipTM=0.848 tol=0.646\n",
      "2025-03-20 15:08:32,914 alphafold2_multimer_v3_model_4_seed_000 recycle=2 pLDDT=97.4 pTM=0.946 ipTM=0.925 tol=0.168\n",
      "2025-03-20 15:08:32,915 alphafold2_multimer_v3_model_4_seed_000 took 13.5s (2 recycles)\n",
      "2025-03-20 15:08:37,827 alphafold2_multimer_v3_model_5_seed_000 recycle=0 pLDDT=95.4 pTM=0.936 ipTM=0.654\n",
      "2025-03-20 15:08:42,332 alphafold2_multimer_v3_model_5_seed_000 recycle=1 pLDDT=97.1 pTM=0.945 ipTM=0.883 tol=0.222\n",
      "2025-03-20 15:08:42,333 alphafold2_multimer_v3_model_5_seed_000 took 9.0s (1 recycles)\n",
      "2025-03-20 15:08:42,414 reranking models by 'multimer' metric\n",
      "2025-03-20 15:08:42,415 rank_001_alphafold2_multimer_v3_model_4_seed_000 pLDDT=97.4 pTM=0.946 ipTM=0.925\n",
      "2025-03-20 15:08:42,415 rank_002_alphafold2_multimer_v3_model_1_seed_000 pLDDT=96.8 pTM=0.946 ipTM=0.906\n",
      "2025-03-20 15:08:42,417 rank_003_alphafold2_multimer_v3_model_5_seed_000 pLDDT=97.1 pTM=0.945 ipTM=0.883\n",
      "2025-03-20 15:08:42,417 rank_004_alphafold2_multimer_v3_model_2_seed_000 pLDDT=95.3 pTM=0.941 ipTM=0.642\n",
      "2025-03-20 15:08:42,417 rank_005_alphafold2_multimer_v3_model_3_seed_000 pLDDT=94.8 pTM=0.94 ipTM=0.626\n",
      "2025-03-20 15:08:43,679 Done\n"
     ]
    }
   ],
   "source": [
    "! python prediction.py --model-type alphafold2_multimer_v3 ./3zgc.fasta ./3zgc --flag-cyclic-peptide 0 1 --flag-nc 0 1"
   ]
  },
  {
   "cell_type": "markdown",
   "metadata": {},
   "source": [
    "If you want to predict \"1sfi.fasta\" which is a complex that has a head-to-tail cyclization and a disulfide bond between the third and eleventh amino acids in the second chain, you can run the following command:"
   ]
  },
  {
   "cell_type": "code",
   "execution_count": 7,
   "metadata": {},
   "outputs": [
    {
     "name": "stdout",
     "output_type": "stream",
     "text": [
      "2025-03-20 15:08:45,869 Running colabfold 0.1\n",
      "\n",
      "WARNING: You are welcome to use the default MSA server, however keep in mind that it's a\n",
      "limited shared resource only capable of processing a few thousand MSAs per day. Please\n",
      "submit jobs only from a single IP address. We reserve the right to limit access to the\n",
      "server case-by-case when usage exceeds fair use. If you require more MSAs: You can \n",
      "precompute all MSAs with `colabfold_search` or host your own API and pass it to `--host-url`\n",
      "\n",
      "2025-03-20 15:08:47,171 Running on GPU\n",
      "2025-03-20 15:08:47,735 Found 4 citations for tools or databases\n",
      "2025-03-20 15:08:47,735 Query 1/1: 1sfi (length 237)\n",
      "COMPLETE: 100%|██████████████████████| 300/300 [elapsed: 01:16 remaining: 00:00]\n",
      "COMPLETE: 100%|██████████████████████| 300/300 [elapsed: 00:01 remaining: 00:00]\n",
      "2025-03-20 15:10:06,378 Setting max_seq=508, max_extra_seq=1543\n",
      "2025-03-20 15:10:32,109 alphafold2_multimer_v3_model_1_seed_000 recycle=0 pLDDT=91.6 pTM=0.915 ipTM=0.55\n",
      "2025-03-20 15:10:51,087 alphafold2_multimer_v3_model_1_seed_000 recycle=1 pLDDT=91.3 pTM=0.917 ipTM=0.466 tol=0.357\n",
      "2025-03-20 15:10:51,088 alphafold2_multimer_v3_model_1_seed_000 took 39.4s (1 recycles)\n",
      "2025-03-20 15:10:55,084 alphafold2_multimer_v3_model_2_seed_000 recycle=0 pLDDT=95.4 pTM=0.933 ipTM=0.85\n",
      "2025-03-20 15:10:58,485 alphafold2_multimer_v3_model_2_seed_000 recycle=1 pLDDT=97.8 pTM=0.952 ipTM=0.959 tol=0.261\n",
      "2025-03-20 15:10:58,486 alphafold2_multimer_v3_model_2_seed_000 took 6.7s (1 recycles)\n",
      "2025-03-20 15:11:02,380 alphafold2_multimer_v3_model_3_seed_000 recycle=0 pLDDT=96.8 pTM=0.941 ipTM=0.932\n",
      "2025-03-20 15:11:05,719 alphafold2_multimer_v3_model_3_seed_000 recycle=1 pLDDT=97.9 pTM=0.952 ipTM=0.962 tol=0.164\n",
      "2025-03-20 15:11:05,719 alphafold2_multimer_v3_model_3_seed_000 took 6.6s (1 recycles)\n",
      "2025-03-20 15:11:09,591 alphafold2_multimer_v3_model_4_seed_000 recycle=0 pLDDT=92.9 pTM=0.917 ipTM=0.552\n",
      "2025-03-20 15:11:12,951 alphafold2_multimer_v3_model_4_seed_000 recycle=1 pLDDT=95.6 pTM=0.938 ipTM=0.78 tol=1.92\n",
      "2025-03-20 15:11:16,326 alphafold2_multimer_v3_model_4_seed_000 recycle=2 pLDDT=98.2 pTM=0.954 ipTM=0.962 tol=0.221\n",
      "2025-03-20 15:11:16,326 alphafold2_multimer_v3_model_4_seed_000 took 10.1s (2 recycles)\n",
      "2025-03-20 15:11:20,042 alphafold2_multimer_v3_model_5_seed_000 recycle=0 pLDDT=97.1 pTM=0.94 ipTM=0.935\n",
      "2025-03-20 15:11:23,388 alphafold2_multimer_v3_model_5_seed_000 recycle=1 pLDDT=98.2 pTM=0.953 ipTM=0.964 tol=0.209\n",
      "2025-03-20 15:11:23,389 alphafold2_multimer_v3_model_5_seed_000 took 6.7s (1 recycles)\n",
      "2025-03-20 15:11:23,449 reranking models by 'multimer' metric\n",
      "2025-03-20 15:11:23,450 rank_001_alphafold2_multimer_v3_model_5_seed_000 pLDDT=98.2 pTM=0.953 ipTM=0.964\n",
      "2025-03-20 15:11:23,451 rank_002_alphafold2_multimer_v3_model_4_seed_000 pLDDT=98.2 pTM=0.954 ipTM=0.962\n",
      "2025-03-20 15:11:23,451 rank_003_alphafold2_multimer_v3_model_3_seed_000 pLDDT=97.9 pTM=0.952 ipTM=0.962\n",
      "2025-03-20 15:11:23,452 rank_004_alphafold2_multimer_v3_model_2_seed_000 pLDDT=97.8 pTM=0.952 ipTM=0.959\n",
      "2025-03-20 15:11:23,452 rank_005_alphafold2_multimer_v3_model_1_seed_000 pLDDT=91.3 pTM=0.917 ipTM=0.466\n",
      "2025-03-20 15:11:24,801 Done\n"
     ]
    }
   ],
   "source": [
    "! python prediction.py --model-type alphafold2_multimer_v3 ./1sfi.fasta ./1sfi --flag-cyclic-peptide 0 1 --flag-nc 0 1 --index-ss 1 2 10"
   ]
  },
  {
   "cell_type": "markdown",
   "metadata": {},
   "source": [
    "If you want to relax your structure, you can use the --amber flag. For example, to relax the structure \"4e86.fasta\", you can run the following command:"
   ]
  },
  {
   "cell_type": "code",
   "execution_count": 8,
   "metadata": {},
   "outputs": [
    {
     "name": "stdout",
     "output_type": "stream",
     "text": [
      "2025-03-20 15:11:26,914 Running colabfold 0.1\n",
      "\n",
      "WARNING: You are welcome to use the default MSA server, however keep in mind that it's a\n",
      "limited shared resource only capable of processing a few thousand MSAs per day. Please\n",
      "submit jobs only from a single IP address. We reserve the right to limit access to the\n",
      "server case-by-case when usage exceeds fair use. If you require more MSAs: You can \n",
      "precompute all MSAs with `colabfold_search` or host your own API and pass it to `--host-url`\n",
      "\n",
      "2025-03-20 15:11:28,293 Running on GPU\n",
      "2025-03-20 15:11:28,693 Found 5 citations for tools or databases\n",
      "2025-03-20 15:11:28,693 Query 1/1: 4e86 (length 32)\n",
      "COMPLETE: 100%|██████████████████████| 150/150 [elapsed: 00:01 remaining: 00:00]\n",
      "2025-03-20 15:11:30,344 Setting max_seq=312, max_extra_seq=1\n",
      "2025-03-20 15:11:50,152 alphafold2_multimer_v3_model_1_seed_000 recycle=0 pLDDT=64.2 pTM=0.351\n",
      "2025-03-20 15:12:04,554 alphafold2_multimer_v3_model_1_seed_000 recycle=1 pLDDT=81.6 pTM=0.565 tol=0.487\n",
      "2025-03-20 15:12:04,555 alphafold2_multimer_v3_model_1_seed_000 took 28.7s (1 recycles)\n",
      "2025-03-20 15:12:05,392 alphafold2_multimer_v3_model_2_seed_000 recycle=0 pLDDT=50.7 pTM=0.22\n",
      "2025-03-20 15:12:05,785 alphafold2_multimer_v3_model_2_seed_000 recycle=1 pLDDT=53.4 pTM=0.247 tol=2.14\n",
      "2025-03-20 15:12:06,175 alphafold2_multimer_v3_model_2_seed_000 recycle=2 pLDDT=54.6 pTM=0.251 tol=0.927\n",
      "2025-03-20 15:12:06,558 alphafold2_multimer_v3_model_2_seed_000 recycle=3 pLDDT=54.2 pTM=0.245 tol=0.748\n",
      "2025-03-20 15:12:06,941 alphafold2_multimer_v3_model_2_seed_000 recycle=4 pLDDT=75.8 pTM=0.45 tol=2.79\n",
      "2025-03-20 15:12:07,330 alphafold2_multimer_v3_model_2_seed_000 recycle=5 pLDDT=83.6 pTM=0.564 tol=0.47\n",
      "2025-03-20 15:12:07,331 alphafold2_multimer_v3_model_2_seed_000 took 2.4s (5 recycles)\n",
      "2025-03-20 15:12:08,166 alphafold2_multimer_v3_model_3_seed_000 recycle=0 pLDDT=82.4 pTM=0.494\n",
      "2025-03-20 15:12:08,549 alphafold2_multimer_v3_model_3_seed_000 recycle=1 pLDDT=86.6 pTM=0.571 tol=0.284\n",
      "2025-03-20 15:12:08,549 alphafold2_multimer_v3_model_3_seed_000 took 0.8s (1 recycles)\n",
      "2025-03-20 15:12:09,361 alphafold2_multimer_v3_model_4_seed_000 recycle=0 pLDDT=55 pTM=0.18\n",
      "2025-03-20 15:12:09,743 alphafold2_multimer_v3_model_4_seed_000 recycle=1 pLDDT=59.2 pTM=0.22 tol=2.23\n",
      "2025-03-20 15:12:10,123 alphafold2_multimer_v3_model_4_seed_000 recycle=2 pLDDT=83.1 pTM=0.521 tol=0.867\n",
      "2025-03-20 15:12:10,522 alphafold2_multimer_v3_model_4_seed_000 recycle=3 pLDDT=82 pTM=0.521 tol=0.169\n",
      "2025-03-20 15:12:10,522 alphafold2_multimer_v3_model_4_seed_000 took 1.6s (3 recycles)\n",
      "2025-03-20 15:12:11,294 alphafold2_multimer_v3_model_5_seed_000 recycle=0 pLDDT=53.2 pTM=0.168\n",
      "2025-03-20 15:12:11,676 alphafold2_multimer_v3_model_5_seed_000 recycle=1 pLDDT=81.9 pTM=0.52 tol=1.33\n",
      "2025-03-20 15:12:12,103 alphafold2_multimer_v3_model_5_seed_000 recycle=2 pLDDT=84.2 pTM=0.551 tol=0.152\n",
      "2025-03-20 15:12:12,104 alphafold2_multimer_v3_model_5_seed_000 took 1.2s (2 recycles)\n",
      "2025-03-20 15:12:12,110 reranking models by 'plddt' metric\n",
      "2025-03-20 15:12:16,102 Relaxation took 4.0s\n",
      "2025-03-20 15:12:16,102 rank_001_alphafold2_multimer_v3_model_3_seed_000 pLDDT=86.6 pTM=0.571\n",
      "2025-03-20 15:12:18,633 Relaxation took 2.5s\n",
      "2025-03-20 15:12:18,634 rank_002_alphafold2_multimer_v3_model_5_seed_000 pLDDT=84.2 pTM=0.551\n",
      "2025-03-20 15:12:21,226 Relaxation took 2.6s\n",
      "2025-03-20 15:12:21,227 rank_003_alphafold2_multimer_v3_model_2_seed_000 pLDDT=83.6 pTM=0.564\n",
      "2025-03-20 15:12:23,956 Relaxation took 2.7s\n",
      "2025-03-20 15:12:23,957 rank_004_alphafold2_multimer_v3_model_4_seed_000 pLDDT=82 pTM=0.521\n",
      "2025-03-20 15:12:27,171 Relaxation took 3.2s\n",
      "2025-03-20 15:12:27,172 rank_005_alphafold2_multimer_v3_model_1_seed_000 pLDDT=81.6 pTM=0.565\n",
      "2025-03-20 15:12:28,386 Done\n"
     ]
    }
   ],
   "source": [
    "! python prediction.py --model-type alphafold2_multimer_v3 ./4e86.fasta ./4e86 --unnatural_residue ABA --flag-cyclic-peptide 1 --index-ss 0 2 30 --index-ss 0 4 19 --index-ss 0 9 29 --amber"
   ]
  }
 ],
 "metadata": {
  "kernelspec": {
   "display_name": "test",
   "language": "python",
   "name": "python3"
  },
  "language_info": {
   "codemirror_mode": {
    "name": "ipython",
    "version": 3
   },
   "file_extension": ".py",
   "mimetype": "text/x-python",
   "name": "python",
   "nbconvert_exporter": "python",
   "pygments_lexer": "ipython3",
   "version": "3.9.16"
  }
 },
 "nbformat": 4,
 "nbformat_minor": 2
}
